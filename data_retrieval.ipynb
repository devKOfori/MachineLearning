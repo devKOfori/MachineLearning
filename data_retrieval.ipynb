{
 "cells": [
  {
   "cell_type": "code",
   "execution_count": null,
   "metadata": {},
   "outputs": [],
   "source": [
    "'''\n",
    "This notebook retrieves data from a PostgreSQL database\n",
    "using pandas library.\n",
    "'''"
   ]
  },
  {
   "cell_type": "code",
   "execution_count": 1,
   "metadata": {},
   "outputs": [],
   "source": [
    "# import libraries\n",
    "\n",
    "import pandas as pd\n",
    "from sqlalchemy import create_engine\n",
    "from sqlalchemy import URL\n",
    "from dotenv import load_dotenv\n",
    "import os"
   ]
  },
  {
   "cell_type": "code",
   "execution_count": 2,
   "metadata": {},
   "outputs": [
    {
     "data": {
      "text/plain": [
       "True"
      ]
     },
     "execution_count": 2,
     "metadata": {},
     "output_type": "execute_result"
    }
   ],
   "source": [
    "# load environment variables\n",
    "# the connection details to my db are stored in a separate file which is loaded via this line of code\n",
    "load_dotenv('.env')"
   ]
  },
  {
   "cell_type": "code",
   "execution_count": 4,
   "metadata": {},
   "outputs": [],
   "source": [
    "# create a connection URL to the database with the create method of SqlAlchemy's URL class\n",
    "# os.getenv retrieves specific environment variables, in this case usernamee, password, database, port, and host\n",
    "DB_URL = URL.create(\n",
    "    'postgresql+psycopg2',\n",
    "    username=os.getenv('usernamee'),\n",
    "    password=os.getenv('password'),\n",
    "    database=os.getenv('database'),\n",
    "    port=os.getenv('port'),\n",
    "    host=os.getenv('host'),\n",
    ")"
   ]
  },
  {
   "cell_type": "code",
   "execution_count": 5,
   "metadata": {},
   "outputs": [],
   "source": [
    "# create query statement\n",
    "query = '''\n",
    "    SELECT *\n",
    "    FROM fine\n",
    "    WHERE EXTRACT(MONTH FROM finedate) = 09;\n",
    "'''"
   ]
  },
  {
   "cell_type": "code",
   "execution_count": 7,
   "metadata": {},
   "outputs": [],
   "source": [
    "# create connection to database\n",
    "try:\n",
    "    con = create_engine(DB_URL)\n",
    "except:\n",
    "    print('Connection Unsuccessful')"
   ]
  },
  {
   "cell_type": "code",
   "execution_count": 8,
   "metadata": {},
   "outputs": [
    {
     "name": "stdout",
     "output_type": "stream",
     "text": [
      "   fineid  vehicleid  driverid score               location    finedate  \\\n",
      "0      11      28342     46560  MILD   CERRO DE LA PLATA SN  2020-09-01   \n",
      "1      13      13201     56749  MILD   CERRO DE LA PLATA SN  2020-09-01   \n",
      "2      17      38722     79188  MILD   CERRO DE LA PLATA SN  2020-09-01   \n",
      "3      30      29793     66732  MILD        SAN EZEQUIEL SN  2020-09-01   \n",
      "4      33      20992     22815  MILD  LUIS PEIDRO FAROLA 14  2020-09-01   \n",
      "\n",
      "   balance discounts  points      informer  \\\n",
      "0      100         Y       0  LOCAL POLICE   \n",
      "1      100         Y       0  LOCAL POLICE   \n",
      "2      100         Y       0  LOCAL POLICE   \n",
      "3      100         Y       0  LOCAL POLICE   \n",
      "4      100         Y       0  LOCAL POLICE   \n",
      "\n",
      "                                              action  speedlimit  speedrunning  \n",
      "0  Circulating in the area reserved for the exclu...           0             0  \n",
      "1  Circulating in the area reserved for the exclu...           0             0  \n",
      "2  Circulating in the area reserved for the exclu...           0             0  \n",
      "3  Circulating in the area reserved for the exclu...           0             0  \n",
      "4  Circulating in the area reserved for the exclu...           0             0  \n"
     ]
    }
   ],
   "source": [
    "# load query results with pandas and view first 5 rows\n",
    "df = pd.read_sql(query, con)\n",
    "print(df.head())"
   ]
  }
 ],
 "metadata": {
  "kernelspec": {
   "display_name": "mlvenv",
   "language": "python",
   "name": "python3"
  },
  "language_info": {
   "codemirror_mode": {
    "name": "ipython",
    "version": 3
   },
   "file_extension": ".py",
   "mimetype": "text/x-python",
   "name": "python",
   "nbconvert_exporter": "python",
   "pygments_lexer": "ipython3",
   "version": "3.12.1"
  }
 },
 "nbformat": 4,
 "nbformat_minor": 2
}
